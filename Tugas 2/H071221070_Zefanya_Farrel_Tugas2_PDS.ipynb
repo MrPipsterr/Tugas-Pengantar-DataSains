{
  "cells": [
    {
      "cell_type": "markdown",
      "id": "bbaa9a05",
      "metadata": {
        "id": "bbaa9a05"
      },
      "source": [
        "![4442f3fa-3429-4a22-bc09-f71be0b207e7.jfif](attachment:4442f3fa-3429-4a22-bc09-f71be0b207e7.jfif)"
      ]
    },
    {
      "cell_type": "markdown",
      "id": "ca8287cc",
      "metadata": {
        "id": "ca8287cc"
      },
      "source": [
        "<div class=\"alert alert-block alert-info\">\n",
        "<h2>Daftar Isi: </h2>\n",
        "<h5>Teknik Perhitungan Correlation:</h5>\n",
        "    <ol>\n",
        "    <li>Pearson</li>\n",
        "    <li>Kendall</li>\n",
        "    <li>Spearman</li>\n",
        "    </ol>\n",
        "<h5>Teknik Pemilihan Fitur</h5>\n",
        "    <ol>\n",
        "    <li>SelectKBest</li>\n",
        "    <li>Regresi linier</li>\n",
        "    <li>Random Forest</li>\n",
        "    <li>XGBoost</li>\n",
        "    <li>Penghapusan Fitur Rekursif</li>\n",
        "    <li>Boruta</li>    \n",
        "    </ol>\n",
        "<h5>Metodologi Seleksi Fitur:</h5>\n",
        "    <ol>\n",
        "    <li>Filter Method</li>\n",
        "    <li>Embedded Method</li>\n",
        "    <li>Wrapper Method</li>\n",
        "    </ol>\n",
        "<h5>Metodologi Seleksi Fitur:</h5>\n",
        "    <ol>\n",
        "    <li>Seleksi Univariat (Univariate Selection)</li>\n",
        "    <li>Pentingnya Fitur (Feature Importance)</li>\n",
        "    <li>Matriks Korelasi (Correlation Matrix) dengan Heatmap</li>\n",
        "    </ol>\n",
        "</div>"
      ]
    },
    {
      "cell_type": "markdown",
      "id": "b94e6982",
      "metadata": {
        "id": "b94e6982"
      },
      "source": [
        "# *Seleksi Fitur*\n",
        "---"
      ]
    },
    {
      "cell_type": "markdown",
      "id": "6f2a24fd",
      "metadata": {
        "id": "6f2a24fd"
      },
      "source": [
        "Seringkali saat kita memiliki ratusan atau ribuan fitur setelah pembuatan fitur. Terdapat dua masalah :\n",
        "\n",
        "1. Semakin banyak fitur yang kita miliki, semakin besar kemungkinan kita menyesuaikan diri dengan set train dan validasi. Ini akan menyebabkan model bekerja lebih buruk dalam menggeneralisasi ke data baru.\n",
        "2. Semakin banyak fitur yang kita  miliki semakin lama waktu yang dibutuhkan untuk melatih model dan mengoptimalkan hyperparameter.\n",
        "\n",
        "Untuk membantu mengatasi masalah sebaiknya menggunakan teknik pemilihan fitur untuk mempertahankan fitur yang paling informatif dalam model kita.\n",
        "\n",
        "**Seleksi fitur (feature selection)** adalah proses memilih fitur yang tepat untuk melatih model ML. Untuk melakukan seleksi fitur, kita perlu memahami hubungan antara variables. Hubungan antar dua random variables disebut *correlation* dan dapat dihitung dengan menggunakan *correlation coefficient*.\n",
        "\n",
        "Range nilai *correlation coeficient* :\n",
        "\n",
        "- Positif maks +1, korelasi positif, artinya kedua variable akan bergerak searah.\n",
        "- Negatif maks -1, korelasi negatif, artinya kedua variable akan bergerak berlawanan.\n",
        "- Nol, menunjukan antara kedua variable tidak ada correlation."
      ]
    },
    {
      "cell_type": "markdown",
      "id": "90b8003b",
      "metadata": {
        "id": "90b8003b"
      },
      "source": [
        "### Teknik Perhitungan Correlation\n",
        "---\n",
        "Teknik perhitungan correlation cukup banyak, berikut yang umum digunakan:\n",
        "\n",
        "**A. Pearson**\n",
        "* Paling umum digunakan.\n",
        "* Digunakan untuk numerical data.\n",
        "* Tidak bisa digunakan untuk ordinal data.\n",
        "* Mengukur linear data dengan asumsi data terdistribusi normal.\n",
        "\n",
        "**B. Kendall**\n",
        "* Rank correlation measure.\n",
        "* Dapat digunakan untuk numerical dan ordinal data, namun tidak untuk nominal data.\n",
        "* Tidak diperlukan linear relationship antar variable.\n",
        "* Digunakan untuk mengukur kemiripan ranked ordering data.\n",
        "* Untuk kondisi normal lebih baik menggunakan Kendall dibandingkan Spearman.\n",
        "\n",
        "**C. Spearman**\n",
        "* Rank correlation measure\n",
        "* Dapat digunakan untuk numerical dan ordinal data, namun tidak untuk nominal data.\n",
        "* Tidak diperlukan linear relationship antar variable.\n",
        "* Monotonic relationship"
      ]
    },
    {
      "cell_type": "markdown",
      "id": "2205d530",
      "metadata": {
        "id": "2205d530"
      },
      "source": [
        "### Teknik Pemilihan Fitur\n",
        "---\n",
        "Teknik pemilihan fitur yang perlu kita ketahui, untuk mendapatkan performa terbaik dari model :\n",
        "\n",
        "1. SelectKBest\n",
        "2. Regresi linier\n",
        "3. Random Forest\n",
        "4. XGBoost\n",
        "5. Penghapusan Fitur Rekursif\n",
        "6. Boruta"
      ]
    },
    {
      "cell_type": "markdown",
      "id": "75fed90c",
      "metadata": {
        "id": "75fed90c"
      },
      "source": [
        "### Metodologi Seleksi Fitur\n",
        "---\n",
        "Ada beberapa metodologi feature selection yang umum digunakan, yaitu:\n",
        "\n",
        "**A. Filter Method**\n",
        "- Umumnya digunakan pada tahap preprocessing.\n",
        "- Pemilihan features tidak tergantung kepada algoritma ML yang akan digunakan.\n",
        "- Features dipilih berdasarkan score test statistik kolerasi.\n",
        "\n",
        "**B. Embedded Method**\n",
        "- Feature dipilih saat proses model training.\n",
        "- Menggunakan learning algorithm untuk melakukan variable selection dan feature selection and classification secara simultan.\n",
        "- Harus memilih algoritma machine learning yang sesuai.\n",
        "\n",
        "**C. Wrapper Method**\n",
        "- Menggunakan subset of features untuk melatih model.\n",
        "- Berdasarkan hasil yang dihasilkan dari model sebelumnya, kita tentukan untuk menambah atau membuang features dari subset.\n",
        "- Kelemahannya membutuhkan resource besar dalam melakukan komputasi."
      ]
    },
    {
      "cell_type": "markdown",
      "id": "556d7d13",
      "metadata": {
        "id": "556d7d13"
      },
      "source": [
        "### Teknik Seleksi Fitur\n",
        "---\n",
        "Ada 3 jenis seleksi fitur lainnya dalam slide modul ini, diantaranya:\n",
        "1. **Seleksi Univariat** (Univariate Selection)\n",
        "2. **Pentingnya Fitur** (Feature Importance)\n",
        "3. **Matriks Korelasi** (Correlation Matrix) dengan Heatmap"
      ]
    },
    {
      "cell_type": "markdown",
      "id": "dfb5b058",
      "metadata": {
        "id": "dfb5b058"
      },
      "source": [
        "---"
      ]
    },
    {
      "cell_type": "markdown",
      "id": "306dae85",
      "metadata": {
        "id": "306dae85"
      },
      "source": [
        "<div class=\"alert alert-block alert-danger\">\n",
        "<b>Catatan:</b> Berikut adalah sebagian kecil dari teknik dalam seleksi fitur.\n",
        "</div>"
      ]
    },
    {
      "cell_type": "markdown",
      "id": "2a056c61",
      "metadata": {
        "id": "2a056c61"
      },
      "source": [
        "<div class=\"alert alert-block alert-success\">\n",
        "<b>Sumber dataset:</b>  https://www.kaggle.com/iabhishekofficial/mobile-price-classification#train.csv\n",
        "</div>"
      ]
    },
    {
      "cell_type": "markdown",
      "id": "6575259c",
      "metadata": {
        "id": "6575259c"
      },
      "source": [
        "#### Deskripsi variabel dari dataset:\n",
        "\n",
        "* battery_power: Total energy a battery can store in one time measured in mAh\n",
        "* blue: Has Bluetooth or not\n",
        "* clock_speed: the speed at which microprocessor executes instructions\n",
        "* dual_sim: Has dual sim support or not\n",
        "* fc: Front Camera megapixels\n",
        "* four_g: Has 4G or not\n",
        "* int_memory: Internal Memory in Gigabytes\n",
        "* m_dep: Mobile Depth in cm\n",
        "* mobile_wt: Weight of mobile phone\n",
        "* n_cores: Number of cores of the processor\n",
        "* pc: Primary Camera megapixels\n",
        "* px_height: Pixel Resolution Height\n",
        "* px_width: Pixel Resolution Width\n",
        "* ram: Random Access Memory in MegaBytes\n",
        "* sc_h: Screen Height of mobile in cm\n",
        "* sc_w: Screen Width of mobile in cm\n",
        "* talk_time: the longest time that a single battery charge will last when you are\n",
        "* three_g: Has 3G or not\n",
        "* touch_screen: Has touch screen or not\n",
        "* wifi: Has wifi or not\n",
        "* price_range: This is the target variable with a value of 0(low cost), 1(medium cost), 2(high cost) and 3(very high cost).\n",
        "\n",
        "\n"
      ]
    },
    {
      "cell_type": "markdown",
      "id": "63071917",
      "metadata": {
        "id": "63071917"
      },
      "source": [
        "<div class=\"alert alert-block alert-danger\">\n",
        "<b>Catatan : </b>Jika belum pernah instal library, gunakan perintah berikut secara inline atau melalui terminal.\n",
        "    <ol>\n",
        "    <li>!pip install pandas</li>\n",
        "    <li>!pip install numpy</li>\n",
        "    <li>!pip install scikit-learn</li>\n",
        "    <li>!pip install matplotlib</li>\n",
        "    <li>!pip install seaborn</li>\n",
        "    </ol>\n",
        "</div>"
      ]
    },
    {
      "cell_type": "markdown",
      "id": "3455ae5e",
      "metadata": {
        "id": "3455ae5e"
      },
      "source": [
        "### 1. Seleksi Unvariate\n",
        "---\n",
        "Metode paling sederhana dan tercepat didasarkan pada uji statistik univariat. Untuk setiap fitur, ukur seberapa kuat target bergantung pada fitur menggunakan uji statistik seperti  χ2 (chi-square) or ANOVA.\n",
        "\n",
        "Uji statistik dapat digunakan untuk memilih fitur-fitur tersebut yang memiliki relasi paling kuat dengan variabel output/target.\n",
        "Library scikit-learn menyediakan class *SelectKBest* yang digunakan untuk serangkaian uji statistik berbeda untuk memilih angka spesifik dari fitur. Berikut ini adalah uji statistik chi-square utk fitur non-negatif untuk memilih 10 fitur terbaik dari dataset *Mobile Price Range Prediction*."
      ]
    },
    {
      "cell_type": "code",
      "execution_count": null,
      "id": "749080a0",
      "metadata": {
        "id": "749080a0"
      },
      "outputs": [],
      "source": [
        "# import library\n",
        "import pandas as pd\n",
        "import numpy as np\n",
        "from sklearn.feature_selection import SelectKBest\n",
        "from sklearn.feature_selection import chi2"
      ]
    },
    {
      "cell_type": "code",
      "execution_count": null,
      "id": "935ad3fd",
      "metadata": {
        "colab": {
          "base_uri": "https://localhost:8080/",
          "height": 206
        },
        "id": "935ad3fd",
        "outputId": "9dd9a650-23be-446c-e532-ee513aa484f9"
      },
      "outputs": [
        {
          "data": {
            "text/html": [
              "\n",
              "  <div id=\"df-9109f37e-8f87-4783-888e-0214d0a19413\" class=\"colab-df-container\">\n",
              "    <div>\n",
              "<style scoped>\n",
              "    .dataframe tbody tr th:only-of-type {\n",
              "        vertical-align: middle;\n",
              "    }\n",
              "\n",
              "    .dataframe tbody tr th {\n",
              "        vertical-align: top;\n",
              "    }\n",
              "\n",
              "    .dataframe thead th {\n",
              "        text-align: right;\n",
              "    }\n",
              "</style>\n",
              "<table border=\"1\" class=\"dataframe\">\n",
              "  <thead>\n",
              "    <tr style=\"text-align: right;\">\n",
              "      <th></th>\n",
              "      <th>Position</th>\n",
              "      <th>Games Played</th>\n",
              "      <th>Win</th>\n",
              "      <th>Draw</th>\n",
              "      <th>Loss</th>\n",
              "      <th>Goals For</th>\n",
              "      <th>Goals Against</th>\n",
              "      <th>Goal Difference</th>\n",
              "      <th>Points</th>\n",
              "    </tr>\n",
              "  </thead>\n",
              "  <tbody>\n",
              "    <tr>\n",
              "      <th>0</th>\n",
              "      <td>1</td>\n",
              "      <td>7</td>\n",
              "      <td>6</td>\n",
              "      <td>0</td>\n",
              "      <td>1</td>\n",
              "      <td>15</td>\n",
              "      <td>8</td>\n",
              "      <td>7</td>\n",
              "      <td>18</td>\n",
              "    </tr>\n",
              "    <tr>\n",
              "      <th>1</th>\n",
              "      <td>2</td>\n",
              "      <td>7</td>\n",
              "      <td>5</td>\n",
              "      <td>0</td>\n",
              "      <td>2</td>\n",
              "      <td>16</td>\n",
              "      <td>8</td>\n",
              "      <td>8</td>\n",
              "      <td>15</td>\n",
              "    </tr>\n",
              "    <tr>\n",
              "      <th>2</th>\n",
              "      <td>3</td>\n",
              "      <td>7</td>\n",
              "      <td>4</td>\n",
              "      <td>2</td>\n",
              "      <td>1</td>\n",
              "      <td>8</td>\n",
              "      <td>7</td>\n",
              "      <td>1</td>\n",
              "      <td>14</td>\n",
              "    </tr>\n",
              "    <tr>\n",
              "      <th>3</th>\n",
              "      <td>4</td>\n",
              "      <td>7</td>\n",
              "      <td>4</td>\n",
              "      <td>1</td>\n",
              "      <td>2</td>\n",
              "      <td>6</td>\n",
              "      <td>5</td>\n",
              "      <td>1</td>\n",
              "      <td>13</td>\n",
              "    </tr>\n",
              "    <tr>\n",
              "      <th>4</th>\n",
              "      <td>5</td>\n",
              "      <td>5</td>\n",
              "      <td>3</td>\n",
              "      <td>1</td>\n",
              "      <td>1</td>\n",
              "      <td>13</td>\n",
              "      <td>4</td>\n",
              "      <td>9</td>\n",
              "      <td>10</td>\n",
              "    </tr>\n",
              "  </tbody>\n",
              "</table>\n",
              "</div>\n",
              "    <div class=\"colab-df-buttons\">\n",
              "\n",
              "  <div class=\"colab-df-container\">\n",
              "    <button class=\"colab-df-convert\" onclick=\"convertToInteractive('df-9109f37e-8f87-4783-888e-0214d0a19413')\"\n",
              "            title=\"Convert this dataframe to an interactive table.\"\n",
              "            style=\"display:none;\">\n",
              "\n",
              "  <svg xmlns=\"http://www.w3.org/2000/svg\" height=\"24px\" viewBox=\"0 -960 960 960\">\n",
              "    <path d=\"M120-120v-720h720v720H120Zm60-500h600v-160H180v160Zm220 220h160v-160H400v160Zm0 220h160v-160H400v160ZM180-400h160v-160H180v160Zm440 0h160v-160H620v160ZM180-180h160v-160H180v160Zm440 0h160v-160H620v160Z\"/>\n",
              "  </svg>\n",
              "    </button>\n",
              "\n",
              "  <style>\n",
              "    .colab-df-container {\n",
              "      display:flex;\n",
              "      gap: 12px;\n",
              "    }\n",
              "\n",
              "    .colab-df-convert {\n",
              "      background-color: #E8F0FE;\n",
              "      border: none;\n",
              "      border-radius: 50%;\n",
              "      cursor: pointer;\n",
              "      display: none;\n",
              "      fill: #1967D2;\n",
              "      height: 32px;\n",
              "      padding: 0 0 0 0;\n",
              "      width: 32px;\n",
              "    }\n",
              "\n",
              "    .colab-df-convert:hover {\n",
              "      background-color: #E2EBFA;\n",
              "      box-shadow: 0px 1px 2px rgba(60, 64, 67, 0.3), 0px 1px 3px 1px rgba(60, 64, 67, 0.15);\n",
              "      fill: #174EA6;\n",
              "    }\n",
              "\n",
              "    .colab-df-buttons div {\n",
              "      margin-bottom: 4px;\n",
              "    }\n",
              "\n",
              "    [theme=dark] .colab-df-convert {\n",
              "      background-color: #3B4455;\n",
              "      fill: #D2E3FC;\n",
              "    }\n",
              "\n",
              "    [theme=dark] .colab-df-convert:hover {\n",
              "      background-color: #434B5C;\n",
              "      box-shadow: 0px 1px 3px 1px rgba(0, 0, 0, 0.15);\n",
              "      filter: drop-shadow(0px 1px 2px rgba(0, 0, 0, 0.3));\n",
              "      fill: #FFFFFF;\n",
              "    }\n",
              "  </style>\n",
              "\n",
              "    <script>\n",
              "      const buttonEl =\n",
              "        document.querySelector('#df-9109f37e-8f87-4783-888e-0214d0a19413 button.colab-df-convert');\n",
              "      buttonEl.style.display =\n",
              "        google.colab.kernel.accessAllowed ? 'block' : 'none';\n",
              "\n",
              "      async function convertToInteractive(key) {\n",
              "        const element = document.querySelector('#df-9109f37e-8f87-4783-888e-0214d0a19413');\n",
              "        const dataTable =\n",
              "          await google.colab.kernel.invokeFunction('convertToInteractive',\n",
              "                                                    [key], {});\n",
              "        if (!dataTable) return;\n",
              "\n",
              "        const docLinkHtml = 'Like what you see? Visit the ' +\n",
              "          '<a target=\"_blank\" href=https://colab.research.google.com/notebooks/data_table.ipynb>data table notebook</a>'\n",
              "          + ' to learn more about interactive tables.';\n",
              "        element.innerHTML = '';\n",
              "        dataTable['output_type'] = 'display_data';\n",
              "        await google.colab.output.renderOutput(dataTable, element);\n",
              "        const docLink = document.createElement('div');\n",
              "        docLink.innerHTML = docLinkHtml;\n",
              "        element.appendChild(docLink);\n",
              "      }\n",
              "    </script>\n",
              "  </div>\n",
              "\n",
              "\n",
              "<div id=\"df-835f6a9b-3c28-4688-8159-c2b1d5de8b22\">\n",
              "  <button class=\"colab-df-quickchart\" onclick=\"quickchart('df-835f6a9b-3c28-4688-8159-c2b1d5de8b22')\"\n",
              "            title=\"Suggest charts.\"\n",
              "            style=\"display:none;\">\n",
              "\n",
              "<svg xmlns=\"http://www.w3.org/2000/svg\" height=\"24px\"viewBox=\"0 0 24 24\"\n",
              "     width=\"24px\">\n",
              "    <g>\n",
              "        <path d=\"M19 3H5c-1.1 0-2 .9-2 2v14c0 1.1.9 2 2 2h14c1.1 0 2-.9 2-2V5c0-1.1-.9-2-2-2zM9 17H7v-7h2v7zm4 0h-2V7h2v10zm4 0h-2v-4h2v4z\"/>\n",
              "    </g>\n",
              "</svg>\n",
              "  </button>\n",
              "\n",
              "<style>\n",
              "  .colab-df-quickchart {\n",
              "      --bg-color: #E8F0FE;\n",
              "      --fill-color: #1967D2;\n",
              "      --hover-bg-color: #E2EBFA;\n",
              "      --hover-fill-color: #174EA6;\n",
              "      --disabled-fill-color: #AAA;\n",
              "      --disabled-bg-color: #DDD;\n",
              "  }\n",
              "\n",
              "  [theme=dark] .colab-df-quickchart {\n",
              "      --bg-color: #3B4455;\n",
              "      --fill-color: #D2E3FC;\n",
              "      --hover-bg-color: #434B5C;\n",
              "      --hover-fill-color: #FFFFFF;\n",
              "      --disabled-bg-color: #3B4455;\n",
              "      --disabled-fill-color: #666;\n",
              "  }\n",
              "\n",
              "  .colab-df-quickchart {\n",
              "    background-color: var(--bg-color);\n",
              "    border: none;\n",
              "    border-radius: 50%;\n",
              "    cursor: pointer;\n",
              "    display: none;\n",
              "    fill: var(--fill-color);\n",
              "    height: 32px;\n",
              "    padding: 0;\n",
              "    width: 32px;\n",
              "  }\n",
              "\n",
              "  .colab-df-quickchart:hover {\n",
              "    background-color: var(--hover-bg-color);\n",
              "    box-shadow: 0 1px 2px rgba(60, 64, 67, 0.3), 0 1px 3px 1px rgba(60, 64, 67, 0.15);\n",
              "    fill: var(--button-hover-fill-color);\n",
              "  }\n",
              "\n",
              "  .colab-df-quickchart-complete:disabled,\n",
              "  .colab-df-quickchart-complete:disabled:hover {\n",
              "    background-color: var(--disabled-bg-color);\n",
              "    fill: var(--disabled-fill-color);\n",
              "    box-shadow: none;\n",
              "  }\n",
              "\n",
              "  .colab-df-spinner {\n",
              "    border: 2px solid var(--fill-color);\n",
              "    border-color: transparent;\n",
              "    border-bottom-color: var(--fill-color);\n",
              "    animation:\n",
              "      spin 1s steps(1) infinite;\n",
              "  }\n",
              "\n",
              "  @keyframes spin {\n",
              "    0% {\n",
              "      border-color: transparent;\n",
              "      border-bottom-color: var(--fill-color);\n",
              "      border-left-color: var(--fill-color);\n",
              "    }\n",
              "    20% {\n",
              "      border-color: transparent;\n",
              "      border-left-color: var(--fill-color);\n",
              "      border-top-color: var(--fill-color);\n",
              "    }\n",
              "    30% {\n",
              "      border-color: transparent;\n",
              "      border-left-color: var(--fill-color);\n",
              "      border-top-color: var(--fill-color);\n",
              "      border-right-color: var(--fill-color);\n",
              "    }\n",
              "    40% {\n",
              "      border-color: transparent;\n",
              "      border-right-color: var(--fill-color);\n",
              "      border-top-color: var(--fill-color);\n",
              "    }\n",
              "    60% {\n",
              "      border-color: transparent;\n",
              "      border-right-color: var(--fill-color);\n",
              "    }\n",
              "    80% {\n",
              "      border-color: transparent;\n",
              "      border-right-color: var(--fill-color);\n",
              "      border-bottom-color: var(--fill-color);\n",
              "    }\n",
              "    90% {\n",
              "      border-color: transparent;\n",
              "      border-bottom-color: var(--fill-color);\n",
              "    }\n",
              "  }\n",
              "</style>\n",
              "\n",
              "  <script>\n",
              "    async function quickchart(key) {\n",
              "      const quickchartButtonEl =\n",
              "        document.querySelector('#' + key + ' button');\n",
              "      quickchartButtonEl.disabled = true;  // To prevent multiple clicks.\n",
              "      quickchartButtonEl.classList.add('colab-df-spinner');\n",
              "      try {\n",
              "        const charts = await google.colab.kernel.invokeFunction(\n",
              "            'suggestCharts', [key], {});\n",
              "      } catch (error) {\n",
              "        console.error('Error during call to suggestCharts:', error);\n",
              "      }\n",
              "      quickchartButtonEl.classList.remove('colab-df-spinner');\n",
              "      quickchartButtonEl.classList.add('colab-df-quickchart-complete');\n",
              "    }\n",
              "    (() => {\n",
              "      let quickchartButtonEl =\n",
              "        document.querySelector('#df-835f6a9b-3c28-4688-8159-c2b1d5de8b22 button');\n",
              "      quickchartButtonEl.style.display =\n",
              "        google.colab.kernel.accessAllowed ? 'block' : 'none';\n",
              "    })();\n",
              "  </script>\n",
              "</div>\n",
              "    </div>\n",
              "  </div>\n"
            ],
            "text/plain": [
              "   Position  Games Played  Win  Draw  Loss  Goals For  Goals Against  \\\n",
              "0         1             7    6     0     1         15              8   \n",
              "1         2             7    5     0     2         16              8   \n",
              "2         3             7    4     2     1          8              7   \n",
              "3         4             7    4     1     2          6              5   \n",
              "4         5             5    3     1     1         13              4   \n",
              "\n",
              "   Goal Difference  Points  \n",
              "0                7      18  \n",
              "1                8      15  \n",
              "2                1      14  \n",
              "3                1      13  \n",
              "4                9      10  "
            ]
          },
          "execution_count": 11,
          "metadata": {},
          "output_type": "execute_result"
        }
      ],
      "source": [
        "# memuat data\n",
        "data = pd.read_csv(\"fifa22.csv\")\n",
        "data.head()"
      ]
    },
    {
      "cell_type": "code",
      "execution_count": null,
      "id": "340aa3c9",
      "metadata": {
        "id": "340aa3c9"
      },
      "outputs": [],
      "source": [
        "# memilih data yang dibutuhkan\n",
        "X = data.iloc[:,0:20]  #independent colums\n",
        "y = data.iloc[:,-1]    # target colum i.e price range"
      ]
    },
    {
      "cell_type": "code",
      "execution_count": null,
      "id": "91e38a5f",
      "metadata": {
        "id": "91e38a5f"
      },
      "outputs": [],
      "source": [
        "# menerapkan SelectKBest untuk melakukan ekstraksi\n",
        "bestfeatures = SelectKBest(score_func=chi2, k='all')\n",
        "fit = bestfeatures.fit(X,y)\n",
        "dfscores = pd.DataFrame(fit.scores_)\n",
        "dfcolumns = pd.DataFrame(X.columns)"
      ]
    },
    {
      "cell_type": "code",
      "execution_count": null,
      "id": "08d89eb7",
      "metadata": {
        "colab": {
          "base_uri": "https://localhost:8080/"
        },
        "id": "08d89eb7",
        "outputId": "846b557a-fd52-44a8-f099-dd7ea8c4cab3"
      },
      "outputs": [
        {
          "name": "stdout",
          "output_type": "stream",
          "text": [
            "             Specs       Score\n",
            "0         Position  159.515152\n",
            "8           Points  107.054945\n",
            "5        Goals For   80.787597\n",
            "7  Goal Difference   44.256410\n",
            "2              Win   40.814815\n",
            "3             Draw   18.400000\n",
            "6    Goals Against   15.615504\n",
            "1     Games Played   13.475000\n",
            "4             Loss    5.200000\n"
          ]
        }
      ],
      "source": [
        "# menggabungkan 2 dataframe\n",
        "featureScores = pd.concat([dfcolumns,dfscores],axis=1)\n",
        "featureScores.columns = ['Specs','Score']  #naming the dataframe columns\n",
        "print(featureScores.nlargest(10,'Score'))  #print 10 best features"
      ]
    },
    {
      "cell_type": "markdown",
      "id": "17648005",
      "metadata": {
        "id": "17648005"
      },
      "source": [
        "### 2. Feature Importance\n",
        "---\n",
        "**Feature importance** mengacu pada kelas teknik untuk menetapkan skor ke fitur input ke model prediktif yang menunjukkan *importance* relatif dari setiap fitur saat membuat prediksi. Skor *Feature importance* dapat dihitung untuk masalah yang melibatkan prediksi nilai numerik, yang disebut regresi, dan masalah yang melibatkan prediksi label kelas, yang disebut klasifikasi.\n",
        "\n",
        "Skor digunakan dalam berbagai situasi dalam masalah pemodelan prediktif, seperti:\n",
        "\n",
        "* Lebih memahami data.\n",
        "* Lebih memahami model.\n",
        "* Mengurangi jumlah fitur input.\n",
        "* memberi  skor untuk setiap fitur data, semakin tinggi skor semakin penting atau relevan fitur tersebut terhadap variabel output\n",
        "\n",
        "Inbuilt yang dilengkapi dengan Pengklasifikasi Berbasis Pohon (Tree Based Classifier), kami akan menggunakan Pengklasifikasi Pohon Ekstra untuk mengekstraksi 10 fitur teratas untuk kumpulan data"
      ]
    },
    {
      "cell_type": "code",
      "execution_count": null,
      "id": "37905c2f",
      "metadata": {
        "id": "37905c2f"
      },
      "outputs": [],
      "source": [
        "# import library\n",
        "import pandas as pd\n",
        "import numpy as np\n",
        "from sklearn.ensemble import ExtraTreesClassifier\n",
        "import matplotlib.pyplot as plt"
      ]
    },
    {
      "cell_type": "code",
      "execution_count": null,
      "id": "f3659469",
      "metadata": {
        "id": "f3659469"
      },
      "outputs": [],
      "source": [
        "# memuat data\n",
        "data = pd.read_csv(\"fifa22.csv\")\n",
        "X = data.iloc[:,0:20]  #independent columns\n",
        "y = data.iloc[:,-1]    #target column i.e price range"
      ]
    },
    {
      "cell_type": "code",
      "execution_count": null,
      "id": "6982f218",
      "metadata": {
        "colab": {
          "base_uri": "https://localhost:8080/"
        },
        "id": "6982f218",
        "outputId": "8b1c73c5-6b1a-4c24-ca89-72ed3dcc1158"
      },
      "outputs": [
        {
          "name": "stdout",
          "output_type": "stream",
          "text": [
            "[0.14144671 0.1035772  0.17793106 0.17069229 0.09932802 0.0436816\n",
            " 0.0242331  0.03341184 0.20569818]\n"
          ]
        }
      ],
      "source": [
        "# melakukan ExtraTreesClassifier untuk mengekstraksi fitur\n",
        "model = ExtraTreesClassifier()\n",
        "model.fit(X,y)\n",
        "print(model.feature_importances_) #use inbuilt class feature_importances of tree based classifiers"
      ]
    },
    {
      "cell_type": "code",
      "execution_count": null,
      "id": "dc59c249",
      "metadata": {
        "colab": {
          "base_uri": "https://localhost:8080/",
          "height": 430
        },
        "id": "dc59c249",
        "outputId": "fe83d511-2f70-47aa-bf9a-14f3b6459f0d"
      },
      "outputs": [
        {
          "data": {
            "image/png": "[encoded data removed]",
            "text/plain": [
              "<Figure size 640x480 with 1 Axes>"
            ]
          },
          "metadata": {},
          "output_type": "display_data"
        }
      ],
      "source": [
        "# melakukan plot dari feature importances\n",
        "feat_importances = pd.Series(model.feature_importances_, index=X.columns)\n",
        "feat_importances.nlargest(10).plot(kind='barh')\n",
        "plt.show()"
      ]
    },
    {
      "cell_type": "markdown",
      "id": "b9a01da9",
      "metadata": {
        "id": "b9a01da9"
      },
      "source": [
        "### 3. Matriks Korelasi dengan Heatmap\n",
        "---\n",
        "\n",
        "* Korelasi menyatakan bagaimana fitur terkait satu sama lain atau variabel target.\n",
        "* Korelasi bisa positif (kenaikan satu nilai fitur meningkatkan nilai variabel target) atau negatif (kenaikan satu nilai fitur menurunkan nilai variabel target)\n",
        "* Heatmap memudahkan untuk mengidentifikasi fitur mana yang paling terkait dengan variabel target, kami akan memplot peta panas fitur yang berkorelasi menggunakan seaborn library\n"
      ]
    },
    {
      "cell_type": "code",
      "execution_count": null,
      "id": "4f93a1f8",
      "metadata": {
        "id": "4f93a1f8"
      },
      "outputs": [],
      "source": [
        "# import library\n",
        "import pandas as pd\n",
        "import numpy as np\n",
        "import seaborn as sns"
      ]
    },
    {
      "cell_type": "code",
      "execution_count": null,
      "id": "e5525362",
      "metadata": {
        "id": "e5525362"
      },
      "outputs": [],
      "source": [
        "# memuat data\n",
        "data = pd.read_csv(\"fifa22.csv\")\n",
        "X = data.iloc[:,0:20]  #independent columns\n",
        "y = data.iloc[:,-1]    #target column i.e price range"
      ]
    },
    {
      "cell_type": "code",
      "execution_count": null,
      "id": "54f4702e",
      "metadata": {
        "id": "54f4702e"
      },
      "outputs": [],
      "source": [
        "# mendapatkan  correlations dari setiap fitur dalam dataset\n",
        "corrmat = data.corr()\n",
        "top_corr_features = corrmat.index"
      ]
    },
    {
      "cell_type": "markdown",
      "id": "e2a2b58f",
      "metadata": {
        "id": "e2a2b58f"
      },
      "source": [
        "### Matriks Korelasi dengan Heatmap (lanjutan)\n",
        "---"
      ]
    },
    {
      "cell_type": "code",
      "execution_count": null,
      "id": "91ac98ed",
      "metadata": {
        "colab": {
          "base_uri": "https://localhost:8080/",
          "height": 1000
        },
        "id": "91ac98ed",
        "outputId": "69b507dd-7969-4863-eaf7-b1b28e8c6111"
      },
      "outputs": [
        {
          "data": {
            "image/png": "[encoded data removed]",
            "text/plain": [
              "<Figure size 2000x2000 with 2 Axes>"
            ]
          },
          "metadata": {},
          "output_type": "display_data"
        }
      ],
      "source": [
        "# plot heatmap\n",
        "plt.figure(figsize=(20,20))\n",
        "g=sns.heatmap(data[top_corr_features].corr(),annot=True,cmap=\"RdYlGn\")"
      ]
    },
    {
      "cell_type": "markdown",
      "id": "4102dada",
      "metadata": {
        "id": "4102dada"
      },
      "source": [
        "### Kesimpulan\n",
        "* Position memiliki korelasi lemah dengan Points, Games Played, Win karena mendekati -1 (-0.9, -0.86, -0.89)\n",
        "* Draw dan Games Played tidak memiliki korelasi (0.039)\n",
        "* Points memiliki Korelasi Kuat dengan Win dan Games Played karena mendekati 1 (0.99, 0.95, )\n",
        "\n"
      ]
    }
  ],
  "metadata": {
    "colab": {
      "provenance": []
    },
    "kernelspec": {
      "display_name": "Python 3",
      "language": "python",
      "name": "python3"
    },
    "language_info": {
      "codemirror_mode": {
        "name": "ipython",
        "version": 3
      },
      "file_extension": ".py",
      "mimetype": "text/x-python",
      "name": "python",
      "nbconvert_exporter": "python",
      "pygments_lexer": "ipython3",
      "version": "3.8.8"
    }
  },
  "nbformat": 4,
  "nbformat_minor": 5
}
